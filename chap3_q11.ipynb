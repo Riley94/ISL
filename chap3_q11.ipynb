{
 "cells": [
  {
   "cell_type": "code",
   "execution_count": 1,
   "metadata": {},
   "outputs": [],
   "source": [
    "import numpy as np"
   ]
  },
  {
   "cell_type": "code",
   "execution_count": 3,
   "metadata": {},
   "outputs": [],
   "source": [
    "rng = np.random.default_rng(1)\n",
    "x = rng.normal(size=100)\n",
    "y = 2 * x + rng.normal(size=100)"
   ]
  },
  {
   "cell_type": "code",
   "execution_count": 4,
   "metadata": {},
   "outputs": [
    {
     "name": "stdout",
     "output_type": "stream",
     "text": [
      "                                 OLS Regression Results                                \n",
      "=======================================================================================\n",
      "Dep. Variable:                      y   R-squared (uncentered):                   0.743\n",
      "Model:                            OLS   Adj. R-squared (uncentered):              0.740\n",
      "Method:                 Least Squares   F-statistic:                              285.6\n",
      "Date:                Tue, 28 May 2024   Prob (F-statistic):                    6.23e-31\n",
      "Time:                        11:09:58   Log-Likelihood:                         -141.35\n",
      "No. Observations:                 100   AIC:                                      284.7\n",
      "Df Residuals:                      99   BIC:                                      287.3\n",
      "Df Model:                           1                                                  \n",
      "Covariance Type:            nonrobust                                                  \n",
      "==============================================================================\n",
      "                 coef    std err          t      P>|t|      [0.025      0.975]\n",
      "------------------------------------------------------------------------------\n",
      "x1             1.9762      0.117     16.898      0.000       1.744       2.208\n",
      "==============================================================================\n",
      "Omnibus:                        1.376   Durbin-Watson:                   2.184\n",
      "Prob(Omnibus):                  0.503   Jarque-Bera (JB):                0.847\n",
      "Skew:                           0.121   Prob(JB):                        0.655\n",
      "Kurtosis:                       3.381   Cond. No.                         1.00\n",
      "==============================================================================\n",
      "\n",
      "Notes:\n",
      "[1] R² is computed without centering (uncentered) since the model does not contain a constant.\n",
      "[2] Standard Errors assume that the covariance matrix of the errors is correctly specified.\n"
     ]
    }
   ],
   "source": [
    "from statsmodels.api import OLS\n",
    "\n",
    "results = OLS(y, x).fit()\n",
    "print(results.summary())"
   ]
  },
  {
   "cell_type": "code",
   "execution_count": 5,
   "metadata": {},
   "outputs": [
    {
     "name": "stdout",
     "output_type": "stream",
     "text": [
      "                                 OLS Regression Results                                \n",
      "=======================================================================================\n",
      "Dep. Variable:                      y   R-squared (uncentered):                   0.743\n",
      "Model:                            OLS   Adj. R-squared (uncentered):              0.740\n",
      "Method:                 Least Squares   F-statistic:                              285.6\n",
      "Date:                Tue, 28 May 2024   Prob (F-statistic):                    6.23e-31\n",
      "Time:                        11:11:30   Log-Likelihood:                         -58.349\n",
      "No. Observations:                 100   AIC:                                      118.7\n",
      "Df Residuals:                      99   BIC:                                      121.3\n",
      "Df Model:                           1                                                  \n",
      "Covariance Type:            nonrobust                                                  \n",
      "==============================================================================\n",
      "                 coef    std err          t      P>|t|      [0.025      0.975]\n",
      "------------------------------------------------------------------------------\n",
      "x1             0.3757      0.022     16.898      0.000       0.332       0.420\n",
      "==============================================================================\n",
      "Omnibus:                       13.156   Durbin-Watson:                   2.034\n",
      "Prob(Omnibus):                  0.001   Jarque-Bera (JB):               22.596\n",
      "Skew:                          -0.528   Prob(JB):                     1.24e-05\n",
      "Kurtosis:                       5.075   Cond. No.                         1.00\n",
      "==============================================================================\n",
      "\n",
      "Notes:\n",
      "[1] R² is computed without centering (uncentered) since the model does not contain a constant.\n",
      "[2] Standard Errors assume that the covariance matrix of the errors is correctly specified.\n"
     ]
    }
   ],
   "source": [
    "swapped = OLS(x, y).fit()\n",
    "print(swapped.summary())"
   ]
  },
  {
   "cell_type": "markdown",
   "metadata": {},
   "source": [
    "results:\\\n",
    "    coef = 1.9762\\\n",
    "    std err = 0.117\\\n",
    "    t = 16.898\\\n",
    "    P = 0\n",
    "    \n",
    "swapped:\\\n",
    "    coef = 0.3757\\\n",
    "    std err = 0.022\\\n",
    "    t = 16.898\\\n",
    "    P = 0"
   ]
  },
  {
   "cell_type": "code",
   "execution_count": null,
   "metadata": {},
   "outputs": [],
   "source": [
    "from statsmodels.formula.api import ols\n",
    "\n",
    "data = {\"x\": x, \"y\": y}\n",
    "results = ols(\"y ~ x\", data=data).fit()"
   ]
  }
 ],
 "metadata": {
  "kernelspec": {
   "display_name": "Python 3",
   "language": "python",
   "name": "python3"
  },
  "language_info": {
   "codemirror_mode": {
    "name": "ipython",
    "version": 3
   },
   "file_extension": ".py",
   "mimetype": "text/x-python",
   "name": "python",
   "nbconvert_exporter": "python",
   "pygments_lexer": "ipython3",
   "version": "3.12.3"
  }
 },
 "nbformat": 4,
 "nbformat_minor": 2
}
